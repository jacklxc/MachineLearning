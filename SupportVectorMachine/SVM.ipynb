{
 "cells": [
  {
   "cell_type": "code",
   "execution_count": 1,
   "metadata": {
    "collapsed": false,
    "deletable": true,
    "editable": true
   },
   "outputs": [],
   "source": [
    "import numpy as np\n",
    "import scipy as sp\n",
    "import matplotlib.pyplot as plt\n",
    "from sklearn.svm import SVC\n",
    "from sklearn.model_selection import cross_val_score\n",
    "\n",
    "%load_ext autoreload\n",
    "%autoreload 2"
   ]
  },
  {
   "cell_type": "code",
   "execution_count": 2,
   "metadata": {
    "collapsed": false,
    "deletable": true,
    "editable": true
   },
   "outputs": [],
   "source": [
    "train = sp.genfromtxt('HW3_handwriting data/mnist_train.txt', delimiter=',')\n",
    "test = sp.genfromtxt('HW3_handwriting data/mnist_test.txt', delimiter=',')"
   ]
  },
  {
   "cell_type": "code",
   "execution_count": 3,
   "metadata": {
    "collapsed": false,
    "deletable": true,
    "editable": true
   },
   "outputs": [],
   "source": [
    "X_train = train[:,1:] *2/255-1\n",
    "y_train = train[:,0]\n",
    "X_test = test[:,1:] *2/255-1\n",
    "y_test = test[:,0]"
   ]
  },
  {
   "cell_type": "code",
   "execution_count": 4,
   "metadata": {
    "collapsed": false,
    "deletable": true,
    "editable": true,
    "scrolled": false
   },
   "outputs": [
    {
     "data": {
      "text/plain": [
       "SVC(C=1.0, cache_size=200, class_weight=None, coef0=0.0,\n",
       "  decision_function_shape=None, degree=3, gamma='auto', kernel='rbf',\n",
       "  max_iter=-1, probability=False, random_state=None, shrinking=True,\n",
       "  tol=0.001, verbose=False)"
      ]
     },
     "execution_count": 4,
     "metadata": {},
     "output_type": "execute_result"
    }
   ],
   "source": [
    "clf = SVC()\n",
    "clf.fit(X_train,y_train)"
   ]
  },
  {
   "cell_type": "code",
   "execution_count": 5,
   "metadata": {
    "collapsed": false,
    "deletable": true,
    "editable": true
   },
   "outputs": [
    {
     "name": "stdout",
     "output_type": "stream",
     "text": [
      "The test accuracy of on the default setting is 0.922\n"
     ]
    }
   ],
   "source": [
    "score = clf.score(X_test, y_test)\n",
    "print(\"The test accuracy of on the default setting is\",score)"
   ]
  },
  {
   "cell_type": "code",
   "execution_count": 6,
   "metadata": {
    "collapsed": false,
    "deletable": true,
    "editable": true
   },
   "outputs": [],
   "source": [
    "clf = SVC()\n",
    "default_scores = cross_val_score(clf, X_train, y_train, cv=5)"
   ]
  },
  {
   "cell_type": "code",
   "execution_count": 7,
   "metadata": {
    "collapsed": false,
    "deletable": true,
    "editable": true
   },
   "outputs": [
    {
     "name": "stdout",
     "output_type": "stream",
     "text": [
      "The default cross validation accuracy is 0.9195\n"
     ]
    }
   ],
   "source": [
    "default_mean_score = np.mean(default_scores)\n",
    "print(\"The default cross validation accuracy is\",default_mean_score)"
   ]
  },
  {
   "cell_type": "code",
   "execution_count": 8,
   "metadata": {
    "collapsed": false,
    "deletable": true,
    "editable": true
   },
   "outputs": [],
   "source": [
    "_, num_features = X_train.shape"
   ]
  },
  {
   "cell_type": "code",
   "execution_count": 9,
   "metadata": {
    "collapsed": false,
    "deletable": true,
    "editable": true,
    "scrolled": false
   },
   "outputs": [
    {
     "name": "stdout",
     "output_type": "stream",
     "text": [
      "C= 2.5  gamma=(1/num_features)* 5.9  Accuracy= 0.9455\n",
      "The best c is 2.5\n",
      "The best gamma coefficient is 5.9\n",
      "The best score is 0.9455\n"
     ]
    }
   ],
   "source": [
    "parameters = []\n",
    "scores = []\n",
    "# (2.5,5.9) is the best so far.\n",
    "# \n",
    "for c in [2.5]:\n",
    "    for gamma_coef in [5.9]:\n",
    "        parameters.append((c,gamma_coef))\n",
    "        clf = SVC(C=c, gamma = gamma_coef / num_features)\n",
    "        score = np.mean(cross_val_score(clf, X_train, y_train, cv=5))\n",
    "        scores.append(score)\n",
    "        print(\"C=\",c,\" gamma=(1/num_features)*\",gamma_coef,\" Accuracy=\",score)\n",
    "scores = np.array(scores)\n",
    "i = np.argmax(scores)\n",
    "best_c, best_gamma_coef = parameters[i]\n",
    "best_score = scores[i]\n",
    "print(\"The best c is\", best_c)\n",
    "print(\"The best gamma coefficient is\",best_gamma_coef)\n",
    "print(\"The best score is\",best_score)"
   ]
  },
  {
   "cell_type": "code",
   "execution_count": 10,
   "metadata": {
    "collapsed": false,
    "deletable": true,
    "editable": true
   },
   "outputs": [
    {
     "name": "stdout",
     "output_type": "stream",
     "text": [
      "The best accuracy is 0.951\n"
     ]
    }
   ],
   "source": [
    "clf = SVC(C=best_c, gamma = best_gamma_coef / num_features)\n",
    "clf.fit(X_train,y_train)\n",
    "best_score = clf.score(X_test, y_test)\n",
    "print(\"The best accuracy is\",best_score)"
   ]
  },
  {
   "cell_type": "code",
   "execution_count": null,
   "metadata": {
    "collapsed": true,
    "deletable": true,
    "editable": true
   },
   "outputs": [],
   "source": []
  }
 ],
 "metadata": {
  "kernelspec": {
   "display_name": "Python 3",
   "language": "python",
   "name": "python3"
  },
  "language_info": {
   "codemirror_mode": {
    "name": "ipython",
    "version": 3
   },
   "file_extension": ".py",
   "mimetype": "text/x-python",
   "name": "python",
   "nbconvert_exporter": "python",
   "pygments_lexer": "ipython3",
   "version": "3.5.1"
  }
 },
 "nbformat": 4,
 "nbformat_minor": 1
}
