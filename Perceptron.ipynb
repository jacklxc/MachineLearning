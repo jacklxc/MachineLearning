{
 "cells": [
  {
   "cell_type": "markdown",
   "metadata": {},
   "source": [
    "# Machine Learning Homework 1: Perceptron\n",
    "### Xiangci Li"
   ]
  },
  {
   "cell_type": "markdown",
   "metadata": {},
   "source": [
    "This .ip"
   ]
  },
  {
   "cell_type": "code",
   "execution_count": 1,
   "metadata": {
    "collapsed": true
   },
   "outputs": [],
   "source": [
    "import numpy as np\n",
    "import matplotlib.pyplot as plt\n",
    "\n",
    "from perceptron import *\n",
    "\n",
    "%matplotlib inline\n",
    "plt.rcParams['figure.figsize'] = (10.0, 8.0) # set default size of plots\n",
    "plt.rcParams['image.interpolation'] = 'nearest'\n",
    "plt.rcParams['image.cmap'] = 'gray'\n",
    "\n",
    "%load_ext autoreload\n",
    "%autoreload 2"
   ]
  },
  {
   "cell_type": "code",
   "execution_count": 2,
   "metadata": {
    "collapsed": false
   },
   "outputs": [],
   "source": [
    "spam_train_file = \"percept_data/spam_train.txt\"\n",
    "test_file = \"percept_data/spam_test.txt\"\n",
    "train_file = \"train.txt\"\n",
    "val_file = \"validation.txt\"\n",
    "split(spam_train_file, train_file, val_file)"
   ]
  },
  {
   "cell_type": "code",
   "execution_count": 3,
   "metadata": {
    "collapsed": false,
    "scrolled": false
   },
   "outputs": [
    {
     "name": "stdout",
     "output_type": "stream",
     "text": [
      "3115\n"
     ]
    }
   ],
   "source": [
    "X = 20\n",
    "WORDS = words(train_file,X)\n",
    "corpus_size = len(WORDS)\n",
    "print corpus_size"
   ]
  },
  {
   "cell_type": "code",
   "execution_count": 4,
   "metadata": {
    "collapsed": false
   },
   "outputs": [
    {
     "name": "stdout",
     "output_type": "stream",
     "text": [
      "Training Data\n",
      "Processed 0 emails.\n",
      "Processed 100 emails.\n",
      "Processed 200 emails.\n",
      "Processed 300 emails.\n",
      "Processed 400 emails.\n",
      "Processed 500 emails.\n",
      "Processed 600 emails.\n",
      "Processed 700 emails.\n",
      "Processed 800 emails.\n",
      "Processed 900 emails.\n",
      "Processed 1000 emails.\n",
      "Processed 1100 emails.\n",
      "Processed 1200 emails.\n",
      "Processed 1300 emails.\n",
      "Processed 1400 emails.\n",
      "Processed 1500 emails.\n",
      "Processed 1600 emails.\n",
      "Processed 1700 emails.\n",
      "Processed 1800 emails.\n",
      "Processed 1900 emails.\n",
      "Processed 2000 emails.\n",
      "Processed 2100 emails.\n",
      "Processed 2200 emails.\n",
      "Processed 2300 emails.\n",
      "Processed 2400 emails.\n",
      "Processed 2500 emails.\n",
      "Processed 2600 emails.\n",
      "Processed 2700 emails.\n",
      "Processed 2800 emails.\n",
      "Processed 2900 emails.\n",
      "Processed 3000 emails.\n",
      "Processed 3100 emails.\n",
      "Processed 3200 emails.\n",
      "Processed 3300 emails.\n",
      "Processed 3400 emails.\n",
      "Processed 3500 emails.\n",
      "Processed 3600 emails.\n",
      "Processed 3700 emails.\n",
      "Processed 3800 emails.\n",
      "Processed 3900 emails.\n",
      "Finished processingTraining Data.\n",
      "Validation Data\n",
      "Processed 0 emails.\n",
      "Processed 100 emails.\n",
      "Processed 200 emails.\n",
      "Processed 300 emails.\n",
      "Processed 400 emails.\n",
      "Processed 500 emails.\n",
      "Processed 600 emails.\n",
      "Processed 700 emails.\n",
      "Processed 800 emails.\n",
      "Processed 900 emails.\n",
      "Finished processingValidation Data.\n",
      "Test Data\n",
      "Processed 0 emails.\n",
      "Processed 100 emails.\n",
      "Processed 200 emails.\n",
      "Processed 300 emails.\n",
      "Processed 400 emails.\n",
      "Processed 500 emails.\n",
      "Processed 600 emails.\n",
      "Processed 700 emails.\n",
      "Processed 800 emails.\n",
      "Processed 900 emails.\n",
      "Finished processingTest Data.\n"
     ]
    }
   ],
   "source": [
    "train_feature_file = \"train_feature.txt\"\n",
    "val_feature_file = \"validation_feature.txt\"\n",
    "test_feature_file = \"test_feature.txt\"\n",
    "save_feature_vector(WORDS, train_file, train_feature_file, \"Training Data\")\n",
    "save_feature_vector(WORDS, val_file, val_feature_file, \"Validation Data\")\n",
    "save_feature_vector(WORDS, test_file, test_feature_file, \"Test Data\")"
   ]
  },
  {
   "cell_type": "code",
   "execution_count": 5,
   "metadata": {
    "collapsed": false
   },
   "outputs": [
    {
     "name": "stdout",
     "output_type": "stream",
     "text": [
      "(4000, 3115)\n",
      "(1000, 3115)\n",
      "(1000, 3115)\n"
     ]
    }
   ],
   "source": [
    "train_feature_file = \"train_feature.txt\"\n",
    "val_feature_file = \"validation_feature.txt\"\n",
    "test_feature_file = \"test_feature.txt\"\n",
    "training_data, train_label = load_feature_vector(train_feature_file)\n",
    "validation_data, val_label = load_feature_vector(val_feature_file)\n",
    "test_data, test_label = load_feature_vector(test_feature_file)\n",
    "print training_data.shape\n",
    "print validation_data.shape\n",
    "print test_data.shape"
   ]
  },
  {
   "cell_type": "code",
   "execution_count": 6,
   "metadata": {
    "collapsed": false,
    "scrolled": false
   },
   "outputs": [
    {
     "name": "stdout",
     "output_type": "stream",
     "text": [
      "Number of iteration: 1, Accuracy: 0.945250\n",
      "Number of iteration: 2, Accuracy: 0.978750\n",
      "Number of iteration: 3, Accuracy: 0.988500\n",
      "Number of iteration: 4, Accuracy: 0.994000\n",
      "Number of iteration: 5, Accuracy: 0.995000\n",
      "Number of iteration: 6, Accuracy: 0.996750\n",
      "Number of iteration: 7, Accuracy: 0.998250\n",
      "Number of iteration: 8, Accuracy: 0.999750\n",
      "Number of iteration: 9, Accuracy: 1.000000\n",
      "415\n",
      "9\n"
     ]
    }
   ],
   "source": [
    "W, k, iter = perceptron_train(training_data, train_label, verbose=True)\n",
    "print k\n",
    "print iter"
   ]
  },
  {
   "cell_type": "code",
   "execution_count": 7,
   "metadata": {
    "collapsed": false
   },
   "outputs": [
    {
     "data": {
      "text/plain": [
       "0.019000000000000017"
      ]
     },
     "execution_count": 7,
     "metadata": {},
     "output_type": "execute_result"
    }
   ],
   "source": [
    "perceptron_error(W, validation_data, val_label)"
   ]
  },
  {
   "cell_type": "code",
   "execution_count": 10,
   "metadata": {
    "collapsed": false
   },
   "outputs": [
    {
     "name": "stdout",
     "output_type": "stream",
     "text": [
      "1\n",
      "0.026\n",
      "2\n",
      "0.032\n",
      "3\n",
      "0.071\n",
      "4\n",
      "0.02\n",
      "5\n",
      "0.016\n",
      "6\n",
      "0.017\n",
      "7\n",
      "0.019\n",
      "8\n",
      "0.019\n",
      "9\n",
      "0.019\n"
     ]
    }
   ],
   "source": [
    "for PASS in range(1,10):\n",
    "    print PASS\n",
    "    W, k, iter = perceptron_train(training_data, train_label, max_pass=PASS)\n",
    "    error = perceptron_error(W, validation_data, val_label)\n",
    "    print error"
   ]
  },
  {
   "cell_type": "code",
   "execution_count": 13,
   "metadata": {
    "collapsed": false
   },
   "outputs": [
    {
     "name": "stdout",
     "output_type": "stream",
     "text": [
      "Most negative 12 words:\n",
      "'word' with corresponding weights:\n",
      "wrote -16.0\n",
      "prefer -14.0\n",
      "i -13.0\n",
      "there -12.0\n",
      "reserv -12.0\n",
      "run -11.0\n",
      "server -11.0\n",
      "url -11.0\n",
      "said -11.0\n",
      "copyright -11.0\n",
      "still -11.0\n",
      "but -10.0\n",
      "\n",
      "Most positive 12 words:\n",
      "'words' with corresponding weights:\n",
      "sight 20.0\n",
      "click 16.0\n",
      "remov 16.0\n",
      "pleas 15.0\n",
      "internet 14.0\n",
      "deathtospamdeathtospamdeathtospam 13.0\n",
      "these 13.0\n",
      "guarante 13.0\n",
      "am 12.0\n",
      "our 12.0\n",
      "ever 11.0\n",
      "offer 11.0\n"
     ]
    }
   ],
   "source": [
    "negativeindex = np.copy(W).argsort()[:12]\n",
    "positiveindex = np.copy(W).argsort()[-12:][::-1]\n",
    "print \"Most negative 12 words:\"\n",
    "print \"'word' with corresponding weights:\"\n",
    "for index in negativeindex:\n",
    "    print WORDS[index], W[index]\n",
    "print \n",
    "print \"Most positive 12 words:\"\n",
    "print \"'words' with corresponding weights:\"\n",
    "for index in positiveindex:\n",
    "    print WORDS[index], W[index]"
   ]
  },
  {
   "cell_type": "code",
   "execution_count": 9,
   "metadata": {
    "collapsed": false
   },
   "outputs": [
    {
     "data": {
      "image/png": "[encoded data removed]",
      "text/plain": [
       "<matplotlib.figure.Figure at 0x104269f90>"
      ]
     },
     "metadata": {},
     "output_type": "display_data"
    },
    {
     "data": {
      "image/png": "[encoded data removed]",
      "text/plain": [
       "<matplotlib.figure.Figure at 0x105c88d90>"
      ]
     },
     "metadata": {},
     "output_type": "display_data"
    }
   ],
   "source": [
    "N = [100,200,400,800,2000,4000]\n",
    "#N = range(100,4100,100)\n",
    "val_errors = []\n",
    "iters = []\n",
    "for n in N:\n",
    "    training_data, train_label = load_feature_vector(train_feature_file,n)\n",
    "    W, k, iter = perceptron_train(training_data, train_label)\n",
    "    val_error = perceptron_error(W, validation_data, val_label)\n",
    "    val_errors.append(val_error)\n",
    "    iters.append(iter)\n",
    "\n",
    "plt.plot(N, val_errors)\n",
    "plt.xlabel('Size of training data N')\n",
    "plt.ylabel('Validation error')\n",
    "plt.title('Validation error as a function of Size of training data N')\n",
    "plt.show()\n",
    "\n",
    "plt.plot(N, iters)\n",
    "plt.xlabel('Size of training data N')\n",
    "plt.ylabel('Number of iterations')\n",
    "plt.title('Number of iterations as a function of Size of training data N')\n",
    "plt.show()"
   ]
  },
  {
   "cell_type": "code",
   "execution_count": 14,
   "metadata": {
    "collapsed": false
   },
   "outputs": [
    {
     "name": "stdout",
     "output_type": "stream",
     "text": [
      "(5000, 3115)\n",
      "(5000,)\n"
     ]
    }
   ],
   "source": [
    "train_size = 4000\n",
    "val_size = 1000\n",
    "test_size = 1000\n",
    "training_data, train_label = load_feature_vector(train_feature_file)\n",
    "validation_data, val_label = load_feature_vector(val_feature_file)\n",
    "test_data, test_label = load_feature_vector(test_feature_file)\n",
    "new_training_data = np.concatenate((training_data,validation_data),axis=0)\n",
    "new_training_label = np.concatenate((train_label,val_label),axis=0)\n",
    "print new_training_data.shape\n",
    "print new_training_label.shape"
   ]
  },
  {
   "cell_type": "code",
   "execution_count": 15,
   "metadata": {
    "collapsed": false
   },
   "outputs": [
    {
     "name": "stdout",
     "output_type": "stream",
     "text": [
      "707 100\n",
      "0.02\n"
     ]
    }
   ],
   "source": [
    "W, k, iter = perceptron_train(new_training_data, new_training_label, verbose=False, max_pass=100)\n",
    "error = perceptron_error(W, test_data, test_label)\n",
    "print k, iter\n",
    "print error"
   ]
  },
  {
   "cell_type": "code",
   "execution_count": 19,
   "metadata": {
    "collapsed": false
   },
   "outputs": [
    {
     "name": "stdout",
     "output_type": "stream",
     "text": [
      "2376\n"
     ]
    }
   ],
   "source": [
    "X = 30\n",
    "WORDS = words(train_file,X)\n",
    "corpus_size = len(WORDS)\n",
    "print corpus_size"
   ]
  },
  {
   "cell_type": "code",
   "execution_count": 18,
   "metadata": {
    "collapsed": false
   },
   "outputs": [
    {
     "name": "stdout",
     "output_type": "stream",
     "text": [
      "Training Data\n",
      "Processed 0 emails.\n",
      "Processed 100 emails.\n",
      "Processed 200 emails.\n",
      "Processed 300 emails.\n",
      "Processed 400 emails.\n",
      "Processed 500 emails.\n",
      "Processed 600 emails.\n",
      "Processed 700 emails.\n",
      "Processed 800 emails.\n",
      "Processed 900 emails.\n",
      "Processed 1000 emails.\n",
      "Processed 1100 emails.\n",
      "Processed 1200 emails.\n",
      "Processed 1300 emails.\n",
      "Processed 1400 emails.\n",
      "Processed 1500 emails.\n",
      "Processed 1600 emails.\n",
      "Processed 1700 emails.\n",
      "Processed 1800 emails.\n",
      "Processed 1900 emails.\n",
      "Processed 2000 emails.\n",
      "Processed 2100 emails.\n",
      "Processed 2200 emails.\n",
      "Processed 2300 emails.\n",
      "Processed 2400 emails.\n",
      "Processed 2500 emails.\n",
      "Processed 2600 emails.\n",
      "Processed 2700 emails.\n",
      "Processed 2800 emails.\n",
      "Processed 2900 emails.\n",
      "Processed 3000 emails.\n",
      "Processed 3100 emails.\n",
      "Processed 3200 emails.\n",
      "Processed 3300 emails.\n",
      "Processed 3400 emails.\n",
      "Processed 3500 emails.\n",
      "Processed 3600 emails.\n",
      "Processed 3700 emails.\n",
      "Processed 3800 emails.\n",
      "Processed 3900 emails.\n",
      "Finished processingTraining Data.\n",
      "Validation Data\n",
      "Processed 0 emails.\n",
      "Processed 100 emails.\n",
      "Processed 200 emails.\n",
      "Processed 300 emails.\n",
      "Processed 400 emails.\n",
      "Processed 500 emails.\n",
      "Processed 600 emails.\n",
      "Processed 700 emails.\n",
      "Processed 800 emails.\n",
      "Processed 900 emails.\n",
      "Finished processingValidation Data.\n",
      "Test Data\n",
      "Processed 0 emails.\n",
      "Processed 100 emails.\n",
      "Processed 200 emails.\n",
      "Processed 300 emails.\n",
      "Processed 400 emails.\n",
      "Processed 500 emails.\n",
      "Processed 600 emails.\n",
      "Processed 700 emails.\n",
      "Processed 800 emails.\n",
      "Processed 900 emails.\n",
      "Finished processingTest Data.\n"
     ]
    }
   ],
   "source": [
    "train_feature_file = \"train_feature.txt\"\n",
    "val_feature_file = \"validation_feature.txt\"\n",
    "test_feature_file = \"test_feature.txt\"\n",
    "save_feature_vector(WORDS, train_file, train_feature_file, \"Training Data\")\n",
    "save_feature_vector(WORDS, val_file, val_feature_file, \"Validation Data\")\n",
    "save_feature_vector(WORDS, test_file, test_feature_file, \"Test Data\")"
   ]
  },
  {
   "cell_type": "code",
   "execution_count": 21,
   "metadata": {
    "collapsed": false
   },
   "outputs": [
    {
     "name": "stdout",
     "output_type": "stream",
     "text": [
      "(4000, 2376)\n",
      "(1000, 2376)\n",
      "(1000, 2376)\n"
     ]
    }
   ],
   "source": [
    "train_feature_file = \"train_feature.txt\"\n",
    "val_feature_file = \"validation_feature.txt\"\n",
    "test_feature_file = \"test_feature.txt\"\n",
    "training_data, train_label = load_feature_vector(train_feature_file)\n",
    "validation_data, val_label = load_feature_vector(val_feature_file)\n",
    "test_data, test_label = load_feature_vector(test_feature_file)\n",
    "print training_data.shape\n",
    "print validation_data.shape\n",
    "print test_data.shape"
   ]
  },
  {
   "cell_type": "code",
   "execution_count": 25,
   "metadata": {
    "collapsed": false
   },
   "outputs": [
    {
     "name": "stdout",
     "output_type": "stream",
     "text": [
      "1\n",
      "0.032\n",
      "2\n",
      "0.025\n",
      "3\n",
      "0.024\n",
      "4\n",
      "0.021\n",
      "5\n",
      "0.025\n",
      "6\n",
      "0.019\n",
      "7\n",
      "0.022\n",
      "8\n",
      "0.022\n",
      "9\n",
      "0.016\n",
      "10\n",
      "0.015\n",
      "11\n",
      "0.015\n"
     ]
    }
   ],
   "source": [
    "for PASS in range(1,12):\n",
    "    print PASS\n",
    "    W, k, iter = perceptron_train(training_data, train_label, max_pass=PASS)\n",
    "    error = perceptron_error(W, validation_data, val_label)\n",
    "    print error"
   ]
  },
  {
   "cell_type": "code",
   "execution_count": 43,
   "metadata": {
    "collapsed": false
   },
   "outputs": [
    {
     "name": "stdout",
     "output_type": "stream",
     "text": [
      "2376\n"
     ]
    }
   ],
   "source": [
    "X = 30\n",
    "WORDS = words(train_file,X)\n",
    "corpus_size = len(WORDS)\n",
    "print corpus_size"
   ]
  },
  {
   "cell_type": "code",
   "execution_count": 44,
   "metadata": {
    "collapsed": false
   },
   "outputs": [
    {
     "name": "stdout",
     "output_type": "stream",
     "text": [
      "Training Data\n",
      "Processed 0 emails.\n",
      "Processed 100 emails.\n",
      "Processed 200 emails.\n",
      "Processed 300 emails.\n",
      "Processed 400 emails.\n",
      "Processed 500 emails.\n",
      "Processed 600 emails.\n",
      "Processed 700 emails.\n",
      "Processed 800 emails.\n",
      "Processed 900 emails.\n",
      "Processed 1000 emails.\n",
      "Processed 1100 emails.\n",
      "Processed 1200 emails.\n",
      "Processed 1300 emails.\n",
      "Processed 1400 emails.\n",
      "Processed 1500 emails.\n",
      "Processed 1600 emails.\n",
      "Processed 1700 emails.\n",
      "Processed 1800 emails.\n",
      "Processed 1900 emails.\n",
      "Processed 2000 emails.\n",
      "Processed 2100 emails.\n",
      "Processed 2200 emails.\n",
      "Processed 2300 emails.\n",
      "Processed 2400 emails.\n",
      "Processed 2500 emails.\n",
      "Processed 2600 emails.\n",
      "Processed 2700 emails.\n",
      "Processed 2800 emails.\n",
      "Processed 2900 emails.\n",
      "Processed 3000 emails.\n",
      "Processed 3100 emails.\n",
      "Processed 3200 emails.\n",
      "Processed 3300 emails.\n",
      "Processed 3400 emails.\n",
      "Processed 3500 emails.\n",
      "Processed 3600 emails.\n",
      "Processed 3700 emails.\n",
      "Processed 3800 emails.\n",
      "Processed 3900 emails.\n",
      "Finished processing Training Data.\n",
      "Validation Data\n",
      "Processed 0 emails.\n",
      "Processed 100 emails.\n",
      "Processed 200 emails.\n",
      "Processed 300 emails.\n",
      "Processed 400 emails.\n",
      "Processed 500 emails.\n",
      "Processed 600 emails.\n",
      "Processed 700 emails.\n",
      "Processed 800 emails.\n",
      "Processed 900 emails.\n",
      "Finished processing Validation Data.\n",
      "Test Data\n",
      "Processed 0 emails.\n",
      "Processed 100 emails.\n",
      "Processed 200 emails.\n",
      "Processed 300 emails.\n",
      "Processed 400 emails.\n",
      "Processed 500 emails.\n",
      "Processed 600 emails.\n",
      "Processed 700 emails.\n",
      "Processed 800 emails.\n",
      "Processed 900 emails.\n",
      "Finished processing Test Data.\n"
     ]
    }
   ],
   "source": [
    "train_feature_file = \"train_feature.txt\"\n",
    "val_feature_file = \"validation_feature.txt\"\n",
    "test_feature_file = \"test_feature.txt\"\n",
    "save_feature_vector(WORDS, train_file, train_feature_file, \"Training Data\")\n",
    "save_feature_vector(WORDS, val_file, val_feature_file, \"Validation Data\")\n",
    "save_feature_vector(WORDS, test_file, test_feature_file, \"Test Data\")"
   ]
  },
  {
   "cell_type": "code",
   "execution_count": 45,
   "metadata": {
    "collapsed": false
   },
   "outputs": [
    {
     "name": "stdout",
     "output_type": "stream",
     "text": [
      "(5000, 2376)\n",
      "(5000,)\n"
     ]
    }
   ],
   "source": [
    "train_size = 4000\n",
    "val_size = 1000\n",
    "test_size = 1000\n",
    "training_data, train_label = load_feature_vector(train_feature_file)\n",
    "validation_data, val_label = load_feature_vector(val_feature_file)\n",
    "test_data, test_label = load_feature_vector(test_feature_file)\n",
    "new_training_data = np.concatenate((training_data,validation_data),axis=0)\n",
    "new_training_label = np.concatenate((train_label,val_label),axis=0)\n",
    "print new_training_data.shape\n",
    "print new_training_label.shape"
   ]
  },
  {
   "cell_type": "code",
   "execution_count": 47,
   "metadata": {
    "collapsed": false
   },
   "outputs": [
    {
     "name": "stdout",
     "output_type": "stream",
     "text": [
      "1\n",
      "0.041\n",
      "2\n",
      "0.028\n",
      "3\n",
      "0.024\n",
      "4\n",
      "0.018\n",
      "5\n",
      "0.019\n",
      "6\n",
      "0.023\n",
      "7\n",
      "0.021\n",
      "8\n",
      "0.019\n",
      "9\n",
      "0.024\n",
      "10\n",
      "0.021\n",
      "11\n",
      "0.021\n",
      "12\n",
      "0.025\n",
      "13\n",
      "0.024\n",
      "14\n",
      "0.023\n",
      "15\n",
      "0.024\n",
      "16\n",
      "0.024\n",
      "17\n",
      "0.024\n",
      "18\n",
      "0.024\n",
      "19\n",
      "0.024\n",
      "20\n",
      "0.024\n",
      "21\n",
      "0.024\n",
      "22\n",
      "0.024\n",
      "23\n",
      "0.024\n",
      "24\n",
      "0.024\n",
      "25\n",
      "0.024\n",
      "26\n",
      "0.024\n",
      "27\n",
      "0.024\n",
      "28\n",
      "0.024\n",
      "29\n",
      "0.024\n"
     ]
    }
   ],
   "source": [
    "for PASS in range(1,30):\n",
    "    print PASS\n",
    "    W, k, iter = perceptron_train(new_training_data, new_training_label, max_pass=PASS)\n",
    "    error = perceptron_error(W, test_data, test_label)\n",
    "    print error"
   ]
  },
  {
   "cell_type": "code",
   "execution_count": 48,
   "metadata": {
    "collapsed": false
   },
   "outputs": [
    {
     "name": "stdout",
     "output_type": "stream",
     "text": [
      "51\n"
     ]
    }
   ],
   "source": [
    "X = 1200\n",
    "WORDS = words(train_file,X)\n",
    "corpus_size = len(WORDS)\n",
    "print corpus_size"
   ]
  },
  {
   "cell_type": "code",
   "execution_count": 49,
   "metadata": {
    "collapsed": false
   },
   "outputs": [
    {
     "name": "stdout",
     "output_type": "stream",
     "text": [
      "Training Data\n",
      "Processed 0 emails.\n",
      "Processed 100 emails.\n",
      "Processed 200 emails.\n",
      "Processed 300 emails.\n",
      "Processed 400 emails.\n",
      "Processed 500 emails.\n",
      "Processed 600 emails.\n",
      "Processed 700 emails.\n",
      "Processed 800 emails.\n",
      "Processed 900 emails.\n",
      "Processed 1000 emails.\n",
      "Processed 1100 emails.\n",
      "Processed 1200 emails.\n",
      "Processed 1300 emails.\n",
      "Processed 1400 emails.\n",
      "Processed 1500 emails.\n",
      "Processed 1600 emails.\n",
      "Processed 1700 emails.\n",
      "Processed 1800 emails.\n",
      "Processed 1900 emails.\n",
      "Processed 2000 emails.\n",
      "Processed 2100 emails.\n",
      "Processed 2200 emails.\n",
      "Processed 2300 emails.\n",
      "Processed 2400 emails.\n",
      "Processed 2500 emails.\n",
      "Processed 2600 emails.\n",
      "Processed 2700 emails.\n",
      "Processed 2800 emails.\n",
      "Processed 2900 emails.\n",
      "Processed 3000 emails.\n",
      "Processed 3100 emails.\n",
      "Processed 3200 emails.\n",
      "Processed 3300 emails.\n",
      "Processed 3400 emails.\n",
      "Processed 3500 emails.\n",
      "Processed 3600 emails.\n",
      "Processed 3700 emails.\n",
      "Processed 3800 emails.\n",
      "Processed 3900 emails.\n",
      "Finished processing Training Data.\n",
      "Validation Data\n",
      "Processed 0 emails.\n",
      "Processed 100 emails.\n",
      "Processed 200 emails.\n",
      "Processed 300 emails.\n",
      "Processed 400 emails.\n",
      "Processed 500 emails.\n",
      "Processed 600 emails.\n",
      "Processed 700 emails.\n",
      "Processed 800 emails.\n",
      "Processed 900 emails.\n",
      "Finished processing Validation Data.\n",
      "Test Data\n",
      "Processed 0 emails.\n",
      "Processed 100 emails.\n",
      "Processed 200 emails.\n",
      "Processed 300 emails.\n",
      "Processed 400 emails.\n",
      "Processed 500 emails.\n",
      "Processed 600 emails.\n",
      "Processed 700 emails.\n",
      "Processed 800 emails.\n",
      "Processed 900 emails.\n",
      "Finished processing Test Data.\n"
     ]
    }
   ],
   "source": [
    "train_feature_file = \"train_feature.txt\"\n",
    "val_feature_file = \"validation_feature.txt\"\n",
    "test_feature_file = \"test_feature.txt\"\n",
    "save_feature_vector(WORDS, train_file, train_feature_file, \"Training Data\")\n",
    "save_feature_vector(WORDS, val_file, val_feature_file, \"Validation Data\")\n",
    "save_feature_vector(WORDS, test_file, test_feature_file, \"Test Data\")"
   ]
  },
  {
   "cell_type": "code",
   "execution_count": 50,
   "metadata": {
    "collapsed": false
   },
   "outputs": [
    {
     "name": "stdout",
     "output_type": "stream",
     "text": [
      "(4000, 51)\n",
      "(1000, 51)\n",
      "(1000, 51)\n"
     ]
    }
   ],
   "source": [
    "train_feature_file = \"train_feature.txt\"\n",
    "val_feature_file = \"validation_feature.txt\"\n",
    "test_feature_file = \"test_feature.txt\"\n",
    "training_data, train_label = load_feature_vector(train_feature_file)\n",
    "validation_data, val_label = load_feature_vector(val_feature_file)\n",
    "test_data, test_label = load_feature_vector(test_feature_file)\n",
    "print training_data.shape\n",
    "print validation_data.shape\n",
    "print test_data.shape"
   ]
  },
  {
   "cell_type": "code",
   "execution_count": 52,
   "metadata": {
    "collapsed": false
   },
   "outputs": [
    {
     "name": "stdout",
     "output_type": "stream",
     "text": [
      "1\n",
      "0.161\n",
      "2\n",
      "0.162\n",
      "3\n",
      "0.153\n",
      "4\n",
      "0.162\n",
      "5\n",
      "0.155\n",
      "6\n",
      "0.135\n",
      "7\n",
      "0.174\n",
      "8\n",
      "0.145\n",
      "9\n",
      "0.122\n",
      "10\n",
      "0.154\n",
      "11\n",
      "0.14\n",
      "12\n",
      "0.115\n",
      "13\n",
      "0.164\n",
      "14\n",
      "0.117\n",
      "15\n",
      "0.116\n",
      "16\n",
      "0.118\n",
      "17\n",
      "0.128\n",
      "18\n",
      "0.131\n",
      "19\n",
      "0.124\n",
      "20\n",
      "0.123\n",
      "21\n",
      "0.169\n",
      "22\n",
      "0.164\n",
      "23\n",
      "0.154\n",
      "24\n",
      "0.127\n",
      "25\n",
      "0.117\n",
      "26\n",
      "0.148\n",
      "27\n",
      "0.145\n",
      "28\n",
      "0.15\n",
      "29\n",
      "0.153\n",
      "30\n",
      "0.125\n",
      "31\n",
      "0.132\n",
      "32\n",
      "0.136\n",
      "33\n",
      "0.131\n",
      "34\n",
      "0.142\n",
      "35\n",
      "0.142\n",
      "36\n",
      "0.131\n",
      "37\n",
      "0.145\n",
      "38\n",
      "0.149\n",
      "39\n",
      "0.143\n",
      "40\n",
      "0.106\n",
      "41\n",
      "0.141\n",
      "42\n",
      "0.101\n",
      "43\n",
      "0.152\n",
      "44\n",
      "0.132\n",
      "45\n",
      "0.123\n",
      "46\n",
      "0.134\n",
      "47\n",
      "0.111\n",
      "48\n",
      "0.135\n",
      "49\n",
      "0.143\n",
      "50\n",
      "0.134\n",
      "51\n",
      "0.121\n",
      "52\n",
      "0.13\n",
      "53\n",
      "0.122\n",
      "54\n",
      "0.143\n",
      "55\n",
      "0.124\n",
      "56\n",
      "0.136\n",
      "57\n",
      "0.152\n",
      "58\n",
      "0.141\n",
      "59\n",
      "0.137\n",
      "60\n",
      "0.13\n",
      "61\n",
      "0.13\n",
      "62\n",
      "0.152\n",
      "63\n",
      "0.128\n",
      "64\n",
      "0.118\n",
      "65\n",
      "0.153\n",
      "66\n",
      "0.141\n",
      "67\n",
      "0.118\n",
      "68\n",
      "0.112\n",
      "69\n",
      "0.142\n",
      "70\n",
      "0.125\n",
      "71\n",
      "0.148\n",
      "72\n",
      "0.135\n",
      "73\n",
      "0.126\n",
      "74\n",
      "0.133\n",
      "75\n",
      "0.153\n",
      "76\n",
      "0.146\n",
      "77\n",
      "0.146\n",
      "78\n",
      "0.162\n",
      "79\n",
      "0.11\n",
      "80\n",
      "0.133\n",
      "81\n",
      "0.127\n",
      "82\n",
      "0.114\n",
      "83\n",
      "0.125\n",
      "84\n",
      "0.124\n",
      "85\n",
      "0.144\n",
      "86\n",
      "0.133\n",
      "87\n",
      "0.125\n",
      "88\n",
      "0.139\n",
      "89\n",
      "0.125\n",
      "90\n",
      "0.14\n",
      "91\n",
      "0.132\n",
      "92\n",
      "0.149\n",
      "93\n",
      "0.153\n",
      "94\n",
      "0.135\n",
      "95\n",
      "0.114\n",
      "96\n",
      "0.135\n",
      "97\n",
      "0.152\n",
      "98\n",
      "0.133\n",
      "99\n",
      "0.142\n"
     ]
    }
   ],
   "source": [
    "for PASS in range(1,100):\n",
    "    print PASS\n",
    "    W, k, iter = perceptron_train(training_data, train_label, max_pass=PASS)\n",
    "    error = perceptron_error(W, validation_data, val_label)\n",
    "    print error"
   ]
  },
  {
   "cell_type": "code",
   "execution_count": null,
   "metadata": {
    "collapsed": true
   },
   "outputs": [],
   "source": []
  }
 ],
 "metadata": {
  "kernelspec": {
   "display_name": "Python 2",
   "language": "python",
   "name": "python2"
  },
  "language_info": {
   "codemirror_mode": {
    "name": "ipython",
    "version": 2
   },
   "file_extension": ".py",
   "mimetype": "text/x-python",
   "name": "python",
   "nbconvert_exporter": "python",
   "pygments_lexer": "ipython2",
   "version": "2.7.11"
  }
 },
 "nbformat": 4,
 "nbformat_minor": 1
}
